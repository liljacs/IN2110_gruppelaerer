{
 "cells": [
  {
   "cell_type": "code",
   "execution_count": 1,
   "id": "dd81e915",
   "metadata": {},
   "outputs": [],
   "source": [
    "from sklearn.feature_extraction.text import CountVectorizer\n",
    "from helpers.oblig1 import scatter_plot"
   ]
  },
  {
   "cell_type": "code",
   "execution_count": null,
   "id": "9698fac0",
   "metadata": {},
   "outputs": [],
   "source": [
    "with open(\"snjo_ut.txt\", \"r\", encoding=\"utf-8\") as data:\n",
    "    snjo = [x for x in data.read().split(\"\\n\") if x != \"\"]\n",
    "\n",
    "with open(\"davvi_ut.txt\", \"r\", encoding=\"utf-8\") as data:\n",
    "    davvi = [x for x in data.read().split(\"\\n\") if x != \"\"]\n",
    "\n",
    "with open(\"nyheit_ut.txt\", \"r\", encoding=\"utf-8\") as data:\n",
    "    nyheit = [x for x in data.read().split(\"\\n\") if x != \"\"]"
   ]
  }
 ],
 "metadata": {
  "kernelspec": {
   "display_name": "Python 3 (ipykernel)",
   "language": "python",
   "name": "python3"
  },
  "language_info": {
   "codemirror_mode": {
    "name": "ipython",
    "version": 3
   },
   "file_extension": ".py",
   "mimetype": "text/x-python",
   "name": "python",
   "nbconvert_exporter": "python",
   "pygments_lexer": "ipython3",
   "version": "3.9.16"
  },
  "varInspector": {
   "cols": {
    "lenName": 16,
    "lenType": 16,
    "lenVar": 40
   },
   "kernels_config": {
    "python": {
     "delete_cmd_postfix": "",
     "delete_cmd_prefix": "del ",
     "library": "var_list.py",
     "varRefreshCmd": "print(var_dic_list())"
    },
    "r": {
     "delete_cmd_postfix": ") ",
     "delete_cmd_prefix": "rm(",
     "library": "var_list.r",
     "varRefreshCmd": "cat(var_dic_list()) "
    }
   },
   "types_to_exclude": [
    "module",
    "function",
    "builtin_function_or_method",
    "instance",
    "_Feature"
   ],
   "window_display": false
  }
 },
 "nbformat": 4,
 "nbformat_minor": 5
}
